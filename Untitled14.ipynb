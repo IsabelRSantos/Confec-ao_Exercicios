{
  "nbformat": 4,
  "nbformat_minor": 0,
  "metadata": {
    "colab": {
      "provenance": []
    },
    "kernelspec": {
      "name": "python3",
      "display_name": "Python 3"
    },
    "language_info": {
      "name": "python"
    }
  },
  "cells": [
    {
      "cell_type": "code",
      "execution_count": null,
      "metadata": {
        "id": "_v5KdHE4Rf6T"
      },
      "outputs": [],
      "source": [
        "for contador in range(1990, 2021):\n",
        "  if contador % 20:\n",
        "    print(contador)\n"
      ]
    },
    {
      "cell_type": "code",
      "source": [
        "idade= int(input(\"digite um numero\"))\n",
        "if idade >= 18:\n",
        "  print(\"é maior de idade\")\n",
        "else:\n",
        "  print(\"é menor de idade\")"
      ],
      "metadata": {
        "id": "WXIowRSDR9fi"
      },
      "execution_count": null,
      "outputs": []
    },
    {
      "cell_type": "code",
      "source": [
        "janeiro = 2500\n",
        "dezembro = 0\n",
        "\n",
        "for i in range(5):\n",
        "  valor = float(input(\"digite o valor\"))\n",
        "  janeiro += valor\n",
        "\n",
        "if janeiro > dezembro:\n",
        "  print(\" os lucros caíram no decorrer do ano\")\n",
        "elif janeiro == dezembro\n",
        "  print(\"os lucros permaneceram os mesmos\")\n",
        "else:\n",
        "  print(\"há uma possibilidade de dezembro ter o maior lucro\")"
      ],
      "metadata": {
        "id": "d5Telvf7Sbqg"
      },
      "execution_count": null,
      "outputs": []
    },
    {
      "cell_type": "code",
      "source": [
        "nota= float(input(\"digite um numero\"))\n",
        "if nota == 10:\n",
        "  print(\"aprovado\")\n",
        "elif nota >= 5:\n",
        "  print(\"aprovado\")\n",
        "else:\n",
        "  print(\"reprovado\")"
      ],
      "metadata": {
        "id": "OatHDzPAT6_e"
      },
      "execution_count": null,
      "outputs": []
    }
  ]
}